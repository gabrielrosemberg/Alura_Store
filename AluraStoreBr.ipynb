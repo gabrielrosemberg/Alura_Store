{
  "cells": [
    {
      "cell_type": "markdown",
      "metadata": {
        "id": "RhEdWd9YUR6H"
      },
      "source": [
        "### Importação dos dados\n",
        "\n"
      ]
    },
    {
      "cell_type": "code",
      "execution_count": 1,
      "metadata": {},
      "outputs": [
        {
          "name": "stdout",
          "output_type": "stream",
          "text": [
            "Requirement already satisfied: pandas in c:\\users\\gabriel.rosemberg\\appdata\\local\\programs\\python\\python313\\lib\\site-packages (2.3.0)\n",
            "Requirement already satisfied: numpy>=1.26.0 in c:\\users\\gabriel.rosemberg\\appdata\\local\\programs\\python\\python313\\lib\\site-packages (from pandas) (2.3.1)\n",
            "Requirement already satisfied: python-dateutil>=2.8.2 in c:\\users\\gabriel.rosemberg\\appdata\\roaming\\python\\python313\\site-packages (from pandas) (2.9.0.post0)\n",
            "Requirement already satisfied: pytz>=2020.1 in c:\\users\\gabriel.rosemberg\\appdata\\local\\programs\\python\\python313\\lib\\site-packages (from pandas) (2025.2)\n",
            "Requirement already satisfied: tzdata>=2022.7 in c:\\users\\gabriel.rosemberg\\appdata\\local\\programs\\python\\python313\\lib\\site-packages (from pandas) (2025.2)\n",
            "Requirement already satisfied: six>=1.5 in c:\\users\\gabriel.rosemberg\\appdata\\roaming\\python\\python313\\site-packages (from python-dateutil>=2.8.2->pandas) (1.17.0)\n",
            "Note: you may need to restart the kernel to use updated packages.\n"
          ]
        },
        {
          "name": "stderr",
          "output_type": "stream",
          "text": [
            "\n",
            "[notice] A new release of pip is available: 24.3.1 -> 25.1.1\n",
            "[notice] To update, run: python.exe -m pip install --upgrade pip\n"
          ]
        }
      ],
      "source": [
        "pip install pandas"
      ]
    },
    {
      "cell_type": "code",
      "execution_count": 2,
      "metadata": {},
      "outputs": [
        {
          "name": "stdout",
          "output_type": "stream",
          "text": [
            "Requirement already satisfied: matplotlib in c:\\users\\gabriel.rosemberg\\appdata\\local\\programs\\python\\python313\\lib\\site-packages (3.10.3)\n",
            "Requirement already satisfied: contourpy>=1.0.1 in c:\\users\\gabriel.rosemberg\\appdata\\local\\programs\\python\\python313\\lib\\site-packages (from matplotlib) (1.3.2)\n",
            "Requirement already satisfied: cycler>=0.10 in c:\\users\\gabriel.rosemberg\\appdata\\local\\programs\\python\\python313\\lib\\site-packages (from matplotlib) (0.12.1)\n",
            "Requirement already satisfied: fonttools>=4.22.0 in c:\\users\\gabriel.rosemberg\\appdata\\local\\programs\\python\\python313\\lib\\site-packages (from matplotlib) (4.58.4)\n",
            "Requirement already satisfied: kiwisolver>=1.3.1 in c:\\users\\gabriel.rosemberg\\appdata\\local\\programs\\python\\python313\\lib\\site-packages (from matplotlib) (1.4.8)\n",
            "Requirement already satisfied: numpy>=1.23 in c:\\users\\gabriel.rosemberg\\appdata\\local\\programs\\python\\python313\\lib\\site-packages (from matplotlib) (2.3.1)\n",
            "Requirement already satisfied: packaging>=20.0 in c:\\users\\gabriel.rosemberg\\appdata\\roaming\\python\\python313\\site-packages (from matplotlib) (25.0)\n",
            "Requirement already satisfied: pillow>=8 in c:\\users\\gabriel.rosemberg\\appdata\\local\\programs\\python\\python313\\lib\\site-packages (from matplotlib) (11.3.0)\n",
            "Requirement already satisfied: pyparsing>=2.3.1 in c:\\users\\gabriel.rosemberg\\appdata\\local\\programs\\python\\python313\\lib\\site-packages (from matplotlib) (3.2.3)\n",
            "Requirement already satisfied: python-dateutil>=2.7 in c:\\users\\gabriel.rosemberg\\appdata\\roaming\\python\\python313\\site-packages (from matplotlib) (2.9.0.post0)\n",
            "Requirement already satisfied: six>=1.5 in c:\\users\\gabriel.rosemberg\\appdata\\roaming\\python\\python313\\site-packages (from python-dateutil>=2.7->matplotlib) (1.17.0)\n",
            "Note: you may need to restart the kernel to use updated packages.\n"
          ]
        },
        {
          "name": "stderr",
          "output_type": "stream",
          "text": [
            "\n",
            "[notice] A new release of pip is available: 24.3.1 -> 25.1.1\n",
            "[notice] To update, run: python.exe -m pip install --upgrade pip\n"
          ]
        }
      ],
      "source": [
        "pip install matplotlib"
      ]
    },
    {
      "cell_type": "code",
      "execution_count": 3,
      "metadata": {
        "colab": {
          "base_uri": "https://localhost:8080/",
          "height": 206
        },
        "id": "T3EvaeQ_INIL",
        "outputId": "b5928498-8d4c-431f-e412-92c63ca9bda4"
      },
      "outputs": [
        {
          "data": {
            "text/html": [
              "<div>\n",
              "<style scoped>\n",
              "    .dataframe tbody tr th:only-of-type {\n",
              "        vertical-align: middle;\n",
              "    }\n",
              "\n",
              "    .dataframe tbody tr th {\n",
              "        vertical-align: top;\n",
              "    }\n",
              "\n",
              "    .dataframe thead th {\n",
              "        text-align: right;\n",
              "    }\n",
              "</style>\n",
              "<table border=\"1\" class=\"dataframe\">\n",
              "  <thead>\n",
              "    <tr style=\"text-align: right;\">\n",
              "      <th></th>\n",
              "      <th>Produto</th>\n",
              "      <th>Categoria do Produto</th>\n",
              "      <th>Preço</th>\n",
              "      <th>Frete</th>\n",
              "      <th>Data da Compra</th>\n",
              "      <th>Vendedor</th>\n",
              "      <th>Local da compra</th>\n",
              "      <th>Avaliação da compra</th>\n",
              "      <th>Tipo de pagamento</th>\n",
              "      <th>Quantidade de parcelas</th>\n",
              "      <th>lat</th>\n",
              "      <th>lon</th>\n",
              "    </tr>\n",
              "  </thead>\n",
              "  <tbody>\n",
              "    <tr>\n",
              "      <th>0</th>\n",
              "      <td>Assistente virtual</td>\n",
              "      <td>eletronicos</td>\n",
              "      <td>219.08</td>\n",
              "      <td>9.249790</td>\n",
              "      <td>16/01/2021</td>\n",
              "      <td>Pedro Gomes</td>\n",
              "      <td>SP</td>\n",
              "      <td>4</td>\n",
              "      <td>cartao_credito</td>\n",
              "      <td>8</td>\n",
              "      <td>-22.19</td>\n",
              "      <td>-48.79</td>\n",
              "    </tr>\n",
              "    <tr>\n",
              "      <th>1</th>\n",
              "      <td>Mesa de jantar</td>\n",
              "      <td>moveis</td>\n",
              "      <td>256.35</td>\n",
              "      <td>11.234305</td>\n",
              "      <td>18/05/2022</td>\n",
              "      <td>Beatriz Moraes</td>\n",
              "      <td>RJ</td>\n",
              "      <td>1</td>\n",
              "      <td>cartao_credito</td>\n",
              "      <td>4</td>\n",
              "      <td>-22.25</td>\n",
              "      <td>-42.66</td>\n",
              "    </tr>\n",
              "    <tr>\n",
              "      <th>2</th>\n",
              "      <td>Jogo de tabuleiro</td>\n",
              "      <td>brinquedos</td>\n",
              "      <td>279.51</td>\n",
              "      <td>21.262681</td>\n",
              "      <td>15/03/2021</td>\n",
              "      <td>João Souza</td>\n",
              "      <td>DF</td>\n",
              "      <td>1</td>\n",
              "      <td>cartao_credito</td>\n",
              "      <td>1</td>\n",
              "      <td>-15.83</td>\n",
              "      <td>-47.86</td>\n",
              "    </tr>\n",
              "    <tr>\n",
              "      <th>3</th>\n",
              "      <td>Micro-ondas</td>\n",
              "      <td>eletrodomesticos</td>\n",
              "      <td>1009.99</td>\n",
              "      <td>54.667344</td>\n",
              "      <td>03/05/2022</td>\n",
              "      <td>João Souza</td>\n",
              "      <td>RS</td>\n",
              "      <td>4</td>\n",
              "      <td>boleto</td>\n",
              "      <td>1</td>\n",
              "      <td>-30.17</td>\n",
              "      <td>-53.50</td>\n",
              "    </tr>\n",
              "    <tr>\n",
              "      <th>4</th>\n",
              "      <td>Cadeira de escritório</td>\n",
              "      <td>moveis</td>\n",
              "      <td>446.99</td>\n",
              "      <td>26.964689</td>\n",
              "      <td>07/11/2020</td>\n",
              "      <td>Larissa Alves</td>\n",
              "      <td>MG</td>\n",
              "      <td>5</td>\n",
              "      <td>boleto</td>\n",
              "      <td>1</td>\n",
              "      <td>-18.10</td>\n",
              "      <td>-44.38</td>\n",
              "    </tr>\n",
              "  </tbody>\n",
              "</table>\n",
              "</div>"
            ],
            "text/plain": [
              "                 Produto Categoria do Produto    Preço      Frete  \\\n",
              "0     Assistente virtual          eletronicos   219.08   9.249790   \n",
              "1         Mesa de jantar               moveis   256.35  11.234305   \n",
              "2      Jogo de tabuleiro           brinquedos   279.51  21.262681   \n",
              "3            Micro-ondas     eletrodomesticos  1009.99  54.667344   \n",
              "4  Cadeira de escritório               moveis   446.99  26.964689   \n",
              "\n",
              "  Data da Compra        Vendedor Local da compra  Avaliação da compra  \\\n",
              "0     16/01/2021     Pedro Gomes              SP                    4   \n",
              "1     18/05/2022  Beatriz Moraes              RJ                    1   \n",
              "2     15/03/2021      João Souza              DF                    1   \n",
              "3     03/05/2022      João Souza              RS                    4   \n",
              "4     07/11/2020   Larissa Alves              MG                    5   \n",
              "\n",
              "  Tipo de pagamento  Quantidade de parcelas    lat    lon  \n",
              "0    cartao_credito                       8 -22.19 -48.79  \n",
              "1    cartao_credito                       4 -22.25 -42.66  \n",
              "2    cartao_credito                       1 -15.83 -47.86  \n",
              "3            boleto                       1 -30.17 -53.50  \n",
              "4            boleto                       1 -18.10 -44.38  "
            ]
          },
          "execution_count": 3,
          "metadata": {},
          "output_type": "execute_result"
        }
      ],
      "source": [
        "import pandas as pd\n",
        "import matplotlib.pyplot as plt\n",
        "\n",
        "url = \"https://raw.githubusercontent.com/alura-es-cursos/challenge1-data-science/refs/heads/main/base-de-dados-challenge-1/loja_1.csv\"\n",
        "url2 = \"https://raw.githubusercontent.com/alura-es-cursos/challenge1-data-science/refs/heads/main/base-de-dados-challenge-1/loja_2.csv\"\n",
        "url3 = \"https://raw.githubusercontent.com/alura-es-cursos/challenge1-data-science/refs/heads/main/base-de-dados-challenge-1/loja_3.csv\"\n",
        "url4 = \"https://raw.githubusercontent.com/alura-es-cursos/challenge1-data-science/refs/heads/main/base-de-dados-challenge-1/loja_4.csv\"\n",
        "\n",
        "loja = pd.read_csv(url)\n",
        "loja2 = pd.read_csv(url2)\n",
        "loja3 = pd.read_csv(url3)\n",
        "loja4 = pd.read_csv(url4)\n",
        "\n",
        "loja.head()"
      ]
    },
    {
      "cell_type": "markdown",
      "metadata": {
        "id": "X62IW3KFUIYm"
      },
      "source": [
        "#1. Análise do faturamento\n"
      ]
    },
    {
      "cell_type": "code",
      "execution_count": 4,
      "metadata": {
        "id": "xykobSftV64I"
      },
      "outputs": [
        {
          "data": {
            "text/plain": [
              "[1534509.12, 1488459.06, 1464025.03, 1384497.58]"
            ]
          },
          "execution_count": 4,
          "metadata": {},
          "output_type": "execute_result"
        }
      ],
      "source": [
        "lojas = [loja, loja2, loja3, loja4]\n",
        "nomes_lojas = ['loja', 'loja2', 'loja3', 'loja4']\n",
        "faturamento = []\n",
        "\n",
        "faturamento = [float(store['Preço'].sum()) for store in lojas]\n",
        "faturamento"
      ]
    },
    {
      "cell_type": "code",
      "execution_count": 5,
      "metadata": {
        "id": "KDyr8E71V3m-"
      },
      "outputs": [
        {
          "data": {
            "image/png": "[encoded data removed]",
            "text/plain": [
              "<Figure size 640x480 with 1 Axes>"
            ]
          },
          "metadata": {},
          "output_type": "display_data"
        }
      ],
      "source": [
        "x = nomes_lojas\n",
        "y = faturamento\n",
        "\n",
        "plt.plot(x, y)\n",
        "plt.title(\"Gráfico de Linhas\")\n",
        "plt.xlabel(\"Lojas\")\n",
        "plt.ylabel(\"Faturamento\")\n",
        "plt.show()"
      ]
    },
    {
      "cell_type": "markdown",
      "metadata": {
        "id": "2V_vcAPzWZmR"
      },
      "source": [
        "# 2. Vendas por Categoria\n"
      ]
    },
    {
      "cell_type": "code",
      "execution_count": 6,
      "metadata": {
        "id": "A34YupIuYhfF"
      },
      "outputs": [
        {
          "name": "stdout",
          "output_type": "stream",
          "text": [
            "Categorias mais populares em loja:\n",
            "Categoria do Produto\n",
            "moveis                   465\n",
            "eletronicos              448\n",
            "brinquedos               324\n",
            "eletrodomesticos         312\n",
            "esporte e lazer          284\n",
            "instrumentos musicais    182\n",
            "livros                   173\n",
            "utilidades domesticas    171\n",
            "Name: count, dtype: int64\n",
            "Categorias mais populares em loja2:\n",
            "Categoria do Produto\n",
            "moveis                   442\n",
            "eletronicos              422\n",
            "brinquedos               313\n",
            "eletrodomesticos         305\n",
            "esporte e lazer          275\n",
            "instrumentos musicais    224\n",
            "livros                   197\n",
            "utilidades domesticas    181\n",
            "Name: count, dtype: int64\n",
            "Categorias mais populares em loja3:\n",
            "Categoria do Produto\n",
            "moveis                   499\n",
            "eletronicos              451\n",
            "brinquedos               315\n",
            "eletrodomesticos         278\n",
            "esporte e lazer          277\n",
            "livros                   185\n",
            "instrumentos musicais    177\n",
            "utilidades domesticas    177\n",
            "Name: count, dtype: int64\n",
            "Categorias mais populares em loja4:\n",
            "Categoria do Produto\n",
            "moveis                   480\n",
            "eletronicos              451\n",
            "brinquedos               338\n",
            "esporte e lazer          277\n",
            "eletrodomesticos         254\n",
            "utilidades domesticas    201\n",
            "livros                   187\n",
            "instrumentos musicais    170\n",
            "Name: count, dtype: int64\n"
          ]
        }
      ],
      "source": [
        "categorias = list(set(loja['Categoria do Produto']))\n",
        "vendas_categorias = []\n",
        "\n",
        "for nomes, loja, categoria in zip(nomes_lojas, lojas, categorias):\n",
        "    print(f'Categorias mais populares em {nomes}:')\n",
        "    categorias_vendas = loja['Categoria do Produto'].value_counts()\n",
        "    print(categorias_vendas)"
      ]
    },
    {
      "cell_type": "markdown",
      "metadata": {
        "id": "Rq6tU_xSY3jk"
      },
      "source": [
        "# 3. Média de Avaliação das Lojas"
      ]
    },
    {
      "cell_type": "code",
      "execution_count": 25,
      "metadata": {
        "id": "bh3jjjJwY5MU"
      },
      "outputs": [
        {
          "name": "stdout",
          "output_type": "stream",
          "text": [
            "[np.float64(3.976685036032217), np.float64(4.037303942348453), np.float64(4.048325561678677), np.float64(3.9957591178965224)]\n"
          ]
        }
      ],
      "source": [
        "avaliacao_media = [loja['Avaliação da compra'].mean() for loja in lojas]\n",
        "print(avaliacao_media)"
      ]
    },
    {
      "cell_type": "code",
      "execution_count": 8,
      "metadata": {
        "id": "I0KkjPoTY88F"
      },
      "outputs": [
        {
          "data": {
            "image/png": "[encoded data removed]",
            "text/plain": [
              "<Figure size 640x480 with 1 Axes>"
            ]
          },
          "metadata": {},
          "output_type": "display_data"
        }
      ],
      "source": [
        "\n",
        "plt.bar(nomes_lojas, avaliacao_media)\n",
        "plt.title(\"Gráfico de Barras\")\n",
        "plt.show()"
      ]
    },
    {
      "cell_type": "markdown",
      "metadata": {
        "id": "DmNp1KPBZCm-"
      },
      "source": [
        "# 4. Produtos Mais e Menos Vendidos"
      ]
    },
    {
      "cell_type": "code",
      "execution_count": 12,
      "metadata": {
        "id": "qoyjqijQZHfF"
      },
      "outputs": [
        {
          "name": "stdout",
          "output_type": "stream",
          "text": [
            "--- Loja 1 ---\n",
            "Produto mais vendido: Micro-ondas\n",
            "Produto menos vendido: Headset\n",
            "\n",
            "\n",
            "--- Loja 2 ---\n",
            "Produto mais vendido: Iniciando em programação\n",
            "Produto menos vendido: Jogo de tabuleiro\n",
            "\n",
            "\n",
            "--- Loja 3 ---\n",
            "Produto mais vendido: Kit banquetas\n",
            "Produto menos vendido: Blocos de montar\n",
            "\n",
            "\n",
            "--- Loja 4 ---\n",
            "Produto mais vendido: Cama box\n",
            "Produto menos vendido: Guitarra\n",
            "\n",
            "\n"
          ]
        }
      ],
      "source": [
        "\n",
        "try:\n",
        "    # Lendo os dados de cada loja\n",
        "    loja1 = pd.read_csv(url)\n",
        "    loja2 = pd.read_csv(url2)\n",
        "    loja3 = pd.read_csv(url3)\n",
        "    loja4 = pd.read_csv(url4)\n",
        "\n",
        "    lojas = [loja1, loja2, loja3, loja4]\n",
        "    nomes_lojas = ['Loja 1', 'Loja 2', 'Loja 3', 'Loja 4']\n",
        "\n",
        "    results = {}\n",
        "\n",
        "    # Identificando o produto mais e menos vendido de cada loja\n",
        "    for nome, df in zip(nomes_lojas, lojas):\n",
        "        product_counts = df['Produto'].value_counts()\n",
        "        most_sold = product_counts.idxmax()\n",
        "        least_sold = product_counts.idxmin()\n",
        "        results[nome] = {\n",
        "            'most_sold': most_sold,\n",
        "            'least_sold': least_sold,\n",
        "            'counts': product_counts\n",
        "        }\n",
        "\n",
        "    # Imprimindo os resultados\n",
        "    for nome, data in results.items():\n",
        "        print(f\"--- {nome} ---\")\n",
        "        print(f\"Produto mais vendido: {data['most_sold']}\")\n",
        "        print(f\"Produto menos vendido: {data['least_sold']}\")\n",
        "        print(\"\\n\")\n",
        "\n",
        "\n",
        "except Exception as e:\n",
        "    print(f\"Ocorreu um erro ao carregar os dados: {e}\")\n",
        "    print(\"Por favor, verifique se as URLs estão corretas e se há conexão com a internet.\")"
      ]
    },
    {
      "cell_type": "markdown",
      "metadata": {
        "id": "Fl0cGi3bZKqU"
      },
      "source": [
        "# 5. Frete Médio por Loja\n"
      ]
    },
    {
      "cell_type": "code",
      "execution_count": null,
      "metadata": {
        "id": "S2JeaCykZNy9"
      },
      "outputs": [
        {
          "name": "stdout",
          "output_type": "stream",
          "text": [
            "--- Custo Médio de Frete por Loja ---\n",
            "Loja 1: R$ 34.69\n",
            "Loja 2: R$ 33.62\n",
            "Loja 3: R$ 33.07\n",
            "Loja 4: R$ 31.28\n",
            "\n",
            "\n"
          ]
        }
      ],
      "source": [
        "try:\n",
        "    # Lendo os dados de cada loja\n",
        "    loja1 = pd.read_csv(url)\n",
        "    loja2 = pd.read_csv(url2)\n",
        "    loja3 = pd.read_csv(url3)\n",
        "    loja4 = pd.read_csv(url4)\n",
        "\n",
        "    lojas = [loja1, loja2, loja3, loja4]\n",
        "    nomes_lojas = ['Loja 1', 'Loja 2', 'Loja 3', 'Loja 4']\n",
        "\n",
        "    custos_medios_frete = {}\n",
        "\n",
        "    # Calculando o custo médio de frete para cada loja\n",
        "    for nome, df in zip(nomes_lojas, lojas):\n",
        "        custo_medio = df['Frete'].mean()\n",
        "        custos_medios_frete[nome] = custo_medio\n",
        "\n",
        "    # Imprimindo os resultados\n",
        "    print(\"--- Custo Médio de Frete por Loja ---\")\n",
        "    for nome, custo in custos_medios_frete.items():\n",
        "        print(f\"{nome}: R$ {custo:.2f}\") # Formatando para duas casas decimais\n",
        "    print(\"\\n\")\n",
        "\n",
        "except Exception as e:\n",
        "    print(f\"Ocorreu um erro ao carregar os dados ou calcular o frete: {e}\")\n",
        "    print(\"Por favor, verifique se as URLs estão corretas e se há conexão com a internet.\")"
      ]
    },
    {
      "cell_type": "code",
      "execution_count": 16,
      "metadata": {
        "id": "0tSdCie9ZQlt"
      },
      "outputs": [
        {
          "data": {
            "image/png": "[encoded data removed]",
            "text/plain": [
              "<Figure size 1000x600 with 1 Axes>"
            ]
          },
          "metadata": {},
          "output_type": "display_data"
        }
      ],
      "source": [
        "try:\n",
        "    # --- Criação do Gráfico de Barras Horizontais ---\n",
        "    # Convertendo o dicionário para uma Series do Pandas para facilitar o plot\n",
        "    frete_series = pd.Series(custos_medios_frete)\n",
        "\n",
        "    plt.figure(figsize=(10, 6)) # Define o tamanho da figura\n",
        "    frete_series.sort_values().plot(kind='barh', color='skyblue') # Plota como barra horizontal e ordena\n",
        "\n",
        "    plt.title('Custo Médio de Frete por Loja', fontsize=16)\n",
        "    plt.xlabel('Custo Médio de Frete (R$)', fontsize=12) # Eixo X agora é o custo\n",
        "    plt.ylabel('Loja', fontsize=12) # Eixo Y agora são as lojas\n",
        "\n",
        "    # Adicionar os valores nas barras para melhor leitura\n",
        "    for index, value in enumerate(frete_series.sort_values()):\n",
        "        plt.text(value, index, f'R$ {value:.2f}', va='center') # Adiciona o texto do valor na barra\n",
        "\n",
        "    plt.grid(axis='x', linestyle='--', alpha=0.7) # Grade no eixo X para facilitar a leitura dos valores\n",
        "    plt.tight_layout() # Ajusta o layout para evitar sobreposição\n",
        "    plt.savefig('custo_medio_frete_todas_lojas.png') # Salva o gráfico\n",
        "    plt.show() # Mostra o gráfico\n",
        "\n",
        "except Exception as e:\n",
        "    print(f\"Ocorreu um erro ao gerar gráfico: {e}\")"
      ]
    },
    {
      "cell_type": "markdown",
      "metadata": {},
      "source": [
        "# 📊 Relatório Final: Recomendação de Loja para Venda\n",
        "\n",
        "## 🧾 Introdução\n",
        "\n",
        "Este relatório visa identificar a loja mais adequada para venda com base em uma análise aprofundada de seu desempenho. Avaliamos os seguintes aspectos:\n",
        "\n",
        "- Faturamento  \n",
        "- Popularidade de categorias de produtos  \n",
        "- Satisfação do cliente  \n",
        "- Produtos mais e menos vendidos  \n",
        "- Custos de frete  \n",
        "\n",
        "Nosso objetivo é fornecer uma **recomendação clara e justificada** para apoiar a decisão de venda.\n",
        "\n",
        "---\n",
        "\n",
        "## 📈 Análise dos Dados\n",
        "\n",
        "### 💰 Faturamento Total\n",
        "\n",
        "O faturamento é o principal indicador financeiro:\n",
        "\n",
        "- **Loja 1**: R$ 1.534.509,12  \n",
        "- **Loja 2**: R$ 1.488.459,06  \n",
        "- **Loja 3**: R$ 1.464.025,03  \n",
        "- **Loja 4**: R$ 1.384.497,58  \n",
        "\n",
        "➡️ A **Loja 1** lidera o faturamento, mostrando a maior capacidade de geração de receita. A **Loja 4**, por outro lado, apresenta o menor desempenho financeiro.\n",
        "\n",
        "---\n",
        "\n",
        "### 📦 Categorias de Produtos Mais Populares\n",
        "\n",
        "As categorias **\"Móveis\"**, **\"Eletrônicos\"** e **\"Brinquedos\"** são consistentemente as mais vendidas em todas as lojas, refletindo forte demanda de mercado. As menos populares são **\"Instrumentos Musicais\"**, **\"Livros\"** e **\"Utilidades Domésticas\"**.\n",
        "\n",
        "- **Loja 3** se destaca em **vendas de Móveis** (499 unidades).  \n",
        "- **Loja 4** tem o maior volume em **Brinquedos** (338 unidades).\n",
        "\n",
        "---\n",
        "\n",
        "### ⭐ Média de Avaliação dos Clientes\n",
        "\n",
        "A satisfação do cliente é um pilar da reputação:\n",
        "\n",
        "- **Loja 1**: 3.98  \n",
        "- **Loja 2**: 4.04  \n",
        "- **Loja 3**: 4.05  \n",
        "- **Loja 4**: 4.00  \n",
        "\n",
        "➡️ Todas as lojas demonstram **excelente satisfação do cliente**, com médias muito próximas e acima de 3.9. **Loja 3** e **Loja 2** registram avaliações ligeiramente superiores.\n",
        "\n",
        "---\n",
        "\n",
        "### 🛒 Produtos Mais e Menos Vendidos\n",
        "\n",
        "A performance individual dos produtos varia:\n",
        "\n",
        "| Loja   | Mais Vendido              | Menos Vendido           |\n",
        "|--------|---------------------------|--------------------------|\n",
        "| Loja 1 | Micro-ondas               | Headset                  |\n",
        "| Loja 2 | Iniciando em programação  | Jogo de tabuleiro        |\n",
        "| Loja 3 | Kit banquetas             | Blocos de montar         |\n",
        "| Loja 4 | Cama box                  | Guitarra                 |\n",
        "\n",
        "➡️ Esses dados mostram as **especificidades de demanda** de cada unidade.\n",
        "\n",
        "---\n",
        "\n",
        "### 🚚 Custo Médio de Frete\n",
        "\n",
        "O frete impacta diretamente a margem de lucro:\n",
        "\n",
        "- **Loja 1**: R$ 34,69  \n",
        "- **Loja 2**: R$ 33,62  \n",
        "- **Loja 3**: R$ 33,07  \n",
        "- **Loja 4**: R$ 31,28  \n",
        "\n",
        "➡️ A **Loja 4** se destaca com o menor custo médio de frete, indicando maior eficiência logística. Já a **Loja 1**, apesar do alto faturamento, possui o frete mais elevado.\n",
        "\n",
        "---\n",
        "\n",
        "## ✅ Conclusão e Recomendação\n",
        "\n",
        "Com base em nossa análise, **a Loja 1 é a candidata mais indicada para venda**.\n",
        "\n",
        "### 🧾 Justificativa:\n",
        "\n",
        "- **🏆 Liderança de Faturamento**  \n",
        "  A Loja 1 é a que consistentemente gera a maior receita, um fator crucial para qualquer comprador em potencial. Seu faturamento a posiciona como a de maior valor intrínseco no momento da venda.\n",
        "\n",
        "- **👍 Alta Satisfação do Cliente**  \n",
        "  Apesar de ter um faturamento expressivo, a Loja 1 mantém uma excelente média de avaliação (**3.98**). Isso demonstra que o volume de vendas **não comprometeu a qualidade do serviço** ou a satisfação do cliente, ponto positivo para a reputação e sustentabilidade do negócio.\n",
        "\n",
        "- **📦 Potencial de Otimização**  \n",
        "  O custo médio de frete mais alto pode ser uma **oportunidade de melhoria**. Há espaço para otimizar a logística, **reduzindo custos e aumentando a lucratividade**, sem a necessidade de ampliar o já robusto faturamento.\n",
        "\n",
        "---\n",
        "\n",
        "Embora outras lojas apresentem pontos fortes — como o frete mais baixo da Loja 4 —, o **faturamento superior da Loja 1 a torna inegavelmente a opção mais atraente** do ponto de vista financeiro. Com a possibilidade de otimizar o frete, **seu potencial de valorização é ainda maior**.\n"
      ]
    }
  ],
  "metadata": {
    "colab": {
      "provenance": []
    },
    "kernelspec": {
      "display_name": "Python 3",
      "language": "python",
      "name": "python3"
    },
    "language_info": {
      "codemirror_mode": {
        "name": "ipython",
        "version": 3
      },
      "file_extension": ".py",
      "mimetype": "text/x-python",
      "name": "python",
      "nbconvert_exporter": "python",
      "pygments_lexer": "ipython3",
      "version": "3.13.1"
    }
  },
  "nbformat": 4,
  "nbformat_minor": 0
}
